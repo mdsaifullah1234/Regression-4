{
 "cells": [
  {
   "cell_type": "markdown",
   "metadata": {},
   "source": [
    "Q1. What is Lasso Regression, and how does it differ from other regression techniques?"
   ]
  },
  {
   "cell_type": "markdown",
   "metadata": {},
   "source": [
    "ANS = Lasso Regression is a linear regression technique that adds a penalty term to the ordinary least squares regression, specifically using the L1 regularization penalty. It differs from other regression techniques by encouraging sparsity in the coefficient values, effectively performing feature selection by driving some coefficients to zero."
   ]
  },
  {
   "cell_type": "markdown",
   "metadata": {},
   "source": [
    "Q2. What is the main advantage of using Lasso Regression in feature selection?"
   ]
  },
  {
   "cell_type": "markdown",
   "metadata": {},
   "source": [
    "ANS  = The main advantage of using Lasso Regression in feature selection is its ability to automatically select relevant features by driving the coefficients of irrelevant features to zero, thereby simplifying the model and reducing overfitting."
   ]
  },
  {
   "cell_type": "markdown",
   "metadata": {},
   "source": [
    "Q3. How do you interpret the coefficients of a Lasso Regression model?"
   ]
  },
  {
   "cell_type": "markdown",
   "metadata": {},
   "source": [
    "ANS = The coefficients of a Lasso Regression model can be interpreted in a similar way to those of ordinary linear regression. However, due to the L1 penalty, some coefficients may be exactly zero, indicating that the corresponding features are not contributing to the model.\n"
   ]
  },
  {
   "cell_type": "markdown",
   "metadata": {},
   "source": [
    "Q4. What are the tuning parameters that can be adjusted in Lasso Regression, and how do they affect the\n",
    "model's performance?"
   ]
  },
  {
   "cell_type": "markdown",
   "metadata": {},
   "source": [
    "ANS = . In Lasso Regression, the main tuning parameter is the regularization parameter (lambda). Increasing lambda increases the level of regularization, leading to more coefficients being shrunk towards zero and potentially more sparsity in the model. The choice of lambda impacts the trade-off between model simplicity (fewer features) and predictive performance."
   ]
  },
  {
   "cell_type": "markdown",
   "metadata": {},
   "source": [
    "Q5. Can Lasso Regression be used for non-linear regression problems? If yes, how?"
   ]
  },
  {
   "cell_type": "markdown",
   "metadata": {},
   "source": [
    "ANS =  Lasso Regression can be used for non-linear regression problems by incorporating non-linear transformations of the features into the model. However, it is inherently a linear regression technique and may not capture complex non-linear relationships as effectively as non-linear regression methods like polynomial regression or kernel methods."
   ]
  },
  {
   "cell_type": "markdown",
   "metadata": {},
   "source": [
    "Q6. What is the difference between Ridge Regression and Lasso Regression?"
   ]
  },
  {
   "cell_type": "markdown",
   "metadata": {},
   "source": [
    "ANS = The main difference between Ridge Regression and Lasso Regression lies in the type of regularization penalty used. Ridge Regression uses the L2 regularization penalty, which penalizes the squared magnitude of coefficients, while Lasso Regression uses the L1 regularization penalty, which penalizes the absolute magnitude of coefficients and tends to produce more sparse solutions."
   ]
  },
  {
   "cell_type": "markdown",
   "metadata": {},
   "source": [
    "Q7. Can Lasso Regression handle multicollinearity in the input features? If yes, how?"
   ]
  },
  {
   "cell_type": "markdown",
   "metadata": {},
   "source": [
    "ANS  = Yes, Lasso Regression can handle multicollinearity in the input features by shrinking the coefficients of correlated features towards zero. This encourages feature selection by automatically selecting one feature from a group of correlated features while driving the coefficients of the others to zero."
   ]
  },
  {
   "cell_type": "markdown",
   "metadata": {},
   "source": [
    "Q8. How do you choose the optimal value of the regularization parameter (lambda) in Lasso Regression?"
   ]
  },
  {
   "cell_type": "markdown",
   "metadata": {},
   "source": [
    "ANS  = The optimal value of the regularization parameter (lambda) in Lasso Regression is typically chosen using techniques like cross-validation. By evaluating the model's performance on a validation set for different values of lambda, the value that minimizes a chosen performance metric (e.g., mean squared error) is selected.\n"
   ]
  }
 ],
 "metadata": {
  "language_info": {
   "name": "python"
  }
 },
 "nbformat": 4,
 "nbformat_minor": 2
}
